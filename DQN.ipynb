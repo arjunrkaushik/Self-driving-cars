{
  "cells": [
    {
      "cell_type": "code",
      "execution_count": null,
      "metadata": {
        "colab": {
          "base_uri": "https://localhost:8080/",
          "height": 349
        },
        "id": "hrUqlB4qA9f3",
        "outputId": "b09bab9d-1495-4af0-9fb4-fc6249019fa9"
      },
      "outputs": [
        {
          "output_type": "stream",
          "name": "stdout",
          "text": [
            "Looking in indexes: https://pypi.org/simple, https://us-python.pkg.dev/colab-wheels/public/simple/\n",
            "Requirement already satisfied: setuptools in /usr/local/lib/python3.8/dist-packages (57.4.0)\n",
            "Collecting setuptools\n",
            "  Downloading setuptools-65.6.3-py3-none-any.whl (1.2 MB)\n",
            "\u001b[K     |████████████████████████████████| 1.2 MB 5.0 MB/s \n",
            "\u001b[?25hInstalling collected packages: setuptools\n",
            "  Attempting uninstall: setuptools\n",
            "    Found existing installation: setuptools 57.4.0\n",
            "    Uninstalling setuptools-57.4.0:\n",
            "      Successfully uninstalled setuptools-57.4.0\n",
            "\u001b[31mERROR: pip's dependency resolver does not currently take into account all the packages that are installed. This behaviour is the source of the following dependency conflicts.\n",
            "ipython 7.9.0 requires jedi>=0.10, which is not installed.\u001b[0m\n",
            "Successfully installed setuptools-65.6.3\n"
          ]
        },
        {
          "output_type": "display_data",
          "data": {
            "application/vnd.colab-display-data+json": {
              "pip_warning": {
                "packages": [
                  "pkg_resources"
                ]
              }
            }
          },
          "metadata": {}
        }
      ],
      "source": [
        "# HIDE OUTPUT\n",
        "!apt-get update > /dev/null 2>&1\n",
        "!apt-get install cmake > /dev/null 2>&1\n",
        "!pip install --upgrade setuptools 2>&1\n",
        "!pip install ez_setup > /dev/null 2>&1\n",
        "!pip install gym[atari] > /dev/null 2>&1"
      ]
    },
    {
      "cell_type": "code",
      "execution_count": null,
      "metadata": {
        "id": "MM-JIEuw_YjY"
      },
      "outputs": [],
      "source": [
        "# HIDE OUTPUT\n",
        "!pip install gym pyvirtualdisplay > /dev/null 2>&1\n",
        "!apt-get install -y xvfb python-opengl ffmpeg > /dev/null 2>&1"
      ]
    },
    {
      "cell_type": "code",
      "execution_count": null,
      "metadata": {
        "colab": {
          "base_uri": "https://localhost:8080/"
        },
        "id": "P7EGJDEMBylM",
        "outputId": "0b18f85d-64c0-4d18-82e2-cef9f73b0244"
      },
      "outputs": [
        {
          "output_type": "stream",
          "name": "stdout",
          "text": [
            "Looking in indexes: https://pypi.org/simple, https://us-python.pkg.dev/colab-wheels/public/simple/\n",
            "Collecting gym.wrappers\n",
            "  Downloading gym-wrappers-0.1.0.tar.gz (1.1 kB)\n",
            "Requirement already satisfied: numpy in /usr/local/lib/python3.8/dist-packages (from gym.wrappers) (1.21.6)\n",
            "Requirement already satisfied: gym in /usr/local/lib/python3.8/dist-packages (from gym.wrappers) (0.25.2)\n",
            "Requirement already satisfied: cloudpickle>=1.2.0 in /usr/local/lib/python3.8/dist-packages (from gym->gym.wrappers) (1.5.0)\n",
            "Requirement already satisfied: importlib-metadata>=4.8.0 in /usr/local/lib/python3.8/dist-packages (from gym->gym.wrappers) (4.13.0)\n",
            "Requirement already satisfied: gym-notices>=0.0.4 in /usr/local/lib/python3.8/dist-packages (from gym->gym.wrappers) (0.0.8)\n",
            "Requirement already satisfied: zipp>=0.5 in /usr/local/lib/python3.8/dist-packages (from importlib-metadata>=4.8.0->gym->gym.wrappers) (3.10.0)\n",
            "Building wheels for collected packages: gym.wrappers\n",
            "  Building wheel for gym.wrappers (setup.py) ... \u001b[?25l\u001b[?25hdone\n",
            "  Created wheel for gym.wrappers: filename=gym_wrappers-0.1.0-py3-none-any.whl size=1392 sha256=45ccec8c8bb52cdf280cb821221c25c0c3eb73e0bff88e696af697e78a99328b\n",
            "  Stored in directory: /root/.cache/pip/wheels/bf/e5/1a/7a9feba5120117a78b2fe42ef373e998ae2dcc068514794768\n",
            "Successfully built gym.wrappers\n",
            "Installing collected packages: gym.wrappers\n",
            "Successfully installed gym.wrappers-0.1.0\n",
            "Looking in indexes: https://pypi.org/simple, https://us-python.pkg.dev/colab-wheels/public/simple/\n",
            "Collecting box2d\n",
            "  Downloading Box2D-2.3.10-cp38-cp38-manylinux1_x86_64.whl (1.3 MB)\n",
            "\u001b[K     |████████████████████████████████| 1.3 MB 5.0 MB/s \n",
            "\u001b[?25hCollecting pygame\n",
            "  Downloading pygame-2.1.2-cp38-cp38-manylinux_2_17_x86_64.manylinux2014_x86_64.whl (21.8 MB)\n",
            "\u001b[K     |████████████████████████████████| 21.8 MB 1.5 MB/s \n",
            "\u001b[?25hInstalling collected packages: pygame, box2d\n",
            "Successfully installed box2d-2.3.10 pygame-2.1.2\n"
          ]
        }
      ],
      "source": [
        "!pip install gym.wrappers\n",
        "!pip install box2d pygame"
      ]
    },
    {
      "cell_type": "code",
      "source": [
        "import numpy as np\n",
        "import gym\n",
        "from gym import logger as gymlogger\n",
        "from IPython.display import HTML\n",
        "from pyvirtualdisplay import Display\n",
        "import pickle\n",
        "import numpy as np\n",
        "import tensorflow as tf\n",
        "from tensorflow import keras\n",
        "from tensorflow.keras.optimizers import Adam\n",
        "from collections import deque\n",
        "import random\n",
        "import matplotlib.pyplot as plt\n",
        "from keras.models import Sequential, load_model, Model\n",
        "from keras.layers import Conv2D, MaxPooling2D, Dense, Flatten, Input, GlobalMaxPool2D, BatchNormalization, Dropout, Activation, Rescaling\n",
        "from keras.regularizers import l2\n",
        "from keras.backend import clear_session\n",
        "from gym.wrappers.record_video import RecordVideo\n",
        "from IPython.display import clear_output"
      ],
      "metadata": {
        "id": "jMDUXFnAyR5m"
      },
      "execution_count": 38,
      "outputs": []
    },
    {
      "cell_type": "markdown",
      "source": [
        "#Image Processing"
      ],
      "metadata": {
        "id": "XN_RmC14Ymum"
      }
    },
    {
      "cell_type": "code",
      "source": [
        "def image_processing(s, img_len):\n",
        "    # Convert to grayscale\n",
        "    s = np.dot(s[...,:3], [0.266, 0.58, 0.1011]).astype(np.uint8)\n",
        "\n",
        "    # Simplify track part of image\n",
        "    s[:85, :][s[:85, :]==106.0]=101.0\n",
        "    s[:85, :][s[:85, :]==104.0]=101.0\n",
        "    s[:85, :][s[:85, :]==161.0]=255.0\n",
        "    s[:85, :][s[:85, :]==177.0]=255.0\n",
        "    s[:85, :][s[:85, :]==254.0]=255.0\n",
        "    s[:85, :][s[:85, :]==76.0]=255.0\n",
        "\n",
        "    # Simplify bottom bar of image\n",
        "    s[86:, :12] = 0.0\n",
        "    s[86:, :][s[86:, :]==254.0]=255.0\n",
        "    s[86:, :][s[86:, :]==29.0]=255.0\n",
        "    s[86:, :][s[86:, :]==44.0]=255.0\n",
        "    s[86:, :][s[86:, :]==149.0]=255.0\n",
        "    s[86:, :][s[86:, :]==76.0]=255.0\n",
        "\n",
        "    # Reshape\n",
        "    s = np.reshape(s, (1, img_len, img_len))  \n",
        "\n",
        "    return s\n",
        "\n",
        "\n",
        "def get_stacked_state(grayscale_state_buffer, frame_interval, img_dim):\n",
        "    # Create image from grayscale buffer\n",
        "    img = np.zeros(img_dim)\n",
        "    for i in range(img_dim[2]):\n",
        "        img[:, :, i] = grayscale_state_buffer[::-1][i * frame_interval]\n",
        "    img = np.reshape(img, (1,) + img_dim)\n",
        "\n",
        "    return img\n",
        "\n",
        "\n",
        "def plot_rewards(episode_rewards):\n",
        "    plt.figure(figsize=(8, 6))\n",
        "    plt.title('DQN Agent')\n",
        "    plt.plot(episode_rewards, label='Episode reward', alpha=0.5)\n",
        "    plt.plot([np.mean(episode_rewards[::-1][i:i+100]) for i in range(len(episode_rewards))][::-1], label='Average reward (last 100 episodes)')\n",
        "    plt.xlabel('episode')\n",
        "    plt.ylabel('average reward')\n",
        "    plt.legend()\n",
        "    plt.show()"
      ],
      "metadata": {
        "id": "N_p-WioU2vXY"
      },
      "execution_count": 55,
      "outputs": []
    },
    {
      "cell_type": "code",
      "source": [
        "class DQNAgent:\n",
        "    def __init__(self, actions, action_probs, lr, batch_size, gamma):\n",
        "        print(\"init\")\n",
        "        self.buffer = deque()\n",
        "        self.actions = actions\n",
        "        self.num_actions = self.actions.shape[0]\n",
        "        self.action_probs = action_probs\n",
        "        self.lr = lr\n",
        "        self.batch_size = batch_size\n",
        "        self.gamma = gamma\n",
        "        self.model = None\n",
        "        self.target_model = None\n",
        "\n",
        "    def cnn_model(self, img_dim):\n",
        "        model = Sequential()\n",
        "        model.add(Conv2D(32, 8, activation='relu', strides=4, input_shape=img_dim))\n",
        "        model.add(Conv2D(64, 4, activation='relu', strides=2))\n",
        "        model.add(Conv2D(64, 3, activation='relu', strides=1))\n",
        "        model.add(Flatten())\n",
        "        model.add(Dense(256, activation='relu'))\n",
        "        model.add(Dense(self.num_actions, activation=\"linear\"))\n",
        "        opt = Adam(learning_rate=self.lr, epsilon=1e-7, clipnorm=1.0)\n",
        "        loss_function = keras.losses.Huber()\n",
        "        model.compile(loss=loss_function, optimizer=opt, metrics=['mean_squared_error'])\n",
        "        return model\n",
        "\n",
        "\n",
        "    def create_models(self, img_dim):\n",
        "        if self.model_path is not None and self.load_model is True:\n",
        "            self.model = keras.models.load_model(self.model_path)\n",
        "            self.target_model = keras.models.load_model(self.model_path)\n",
        "            print(\"Loaded model\")\n",
        "        else:\n",
        "            self.model = self.cnn_model(img_dim)\n",
        "            self.target_model = self.cnn_model(img_dim)\n",
        "\n",
        "\n",
        "\n",
        "    def experience_replay(self, img_dim, steps):\n",
        "        batch = random.sample(self.buffer, self.batch_size)\n",
        "\n",
        "        # Get states adn q values\n",
        "        s0 = np.array([np.reshape(x[0], img_dim) for x in batch])\n",
        "        s1 = np.array([np.reshape(x[3], img_dim) for x in batch])\n",
        "        q0 = self.model.predict(s0)\n",
        "        q1 = self.target_model.predict(s1)\n",
        "\n",
        "        for i, (obs0, a, r, obs1, done) in enumerate(batch):\n",
        "            if done:\n",
        "                q_new = r\n",
        "            else: \n",
        "                q_new = r + self.gamma * np.max(q1[i])\n",
        "            q0[i][a] = q_new \n",
        "\n",
        "        self.model.fit(s0, q0, epochs=1, batch_size=self.batch_size, verbose = True)        \n",
        "\n",
        "\n",
        "    def save_model(self, path='./dqn.h5'):\n",
        "        self.model.save(path)"
      ],
      "metadata": {
        "id": "fyP6DDiryEq2"
      },
      "execution_count": 16,
      "outputs": []
    },
    {
      "cell_type": "code",
      "source": [
        "class Trainer: \n",
        "    def __init__(self, number_of_episodes, epsilon, path=None):\n",
        "        self.img_len = 96\n",
        "        self.frame_stack_num = 4\n",
        "        self.frame_interval = 4\n",
        "        self.img_dim = (96, 96, 4)\n",
        "        self.number_of_episodes = number_of_episodes\n",
        "        self.epsilon = epsilon\n",
        "        self.epsilon_decay_rate = 0.95\n",
        "        self.max_replay_memory_size = 100000\n",
        "        self.min_replay_memory_size = 1000\n",
        "        self.random_action_steps = 5000\n",
        "        self.update_target_model_steps = 5000\n",
        "        self.max_steps_per_episode = 10000\n",
        "        self.action_frames = 4\n",
        "        self.save_model_frequency = 50\n",
        "        self.step_count = 0 \n",
        "        self.grayscale_state_buffer = deque()\n",
        "        self.episode_rewards = list()\n",
        "        self.total_avg = list()\n",
        "        self.path = path\n",
        "\n",
        "\n",
        "    def train_agent(self, env, agent):\n",
        "      episode_rewards = list()\n",
        "      total_avg = list()\n",
        "      self.step_count = 0\n",
        "      agent.create_models(self.img_dim)\n",
        "\n",
        "      for episode_number in range(self.number_of_episodes):\n",
        "          env.reset()\n",
        "          # First 50 frames are zooming into track so ignore for training!\n",
        "          for i in range(0,50):\n",
        "              s0, _, _, _ = env.step([0.0, 1.0, 0.0])\n",
        "\n",
        "          # Generate episode\n",
        "          print(f'Starting episode number {episode_number}')\n",
        "          episode_reward = self.generate_episode(s0, env, agent, episode_number)\n",
        "          self.epsilon *= self.epsilon_decay_rate\n",
        "          episode_rewards.append(episode_reward)\n",
        "          avg_reward = np.mean(episode_rewards[-100:])\n",
        "          total_avg.append(avg_reward)\n",
        "\n",
        "          clear_output(wait=True)\n",
        "          print(f'Total step count: {self.step_count}')\n",
        "          print(f'Epsilon: {self.epsilon}')\n",
        "          print(f'Learning rate: {round(agent.model.optimizer.lr.numpy(), 5)}')\n",
        "          print(f'Total reward for episode: {episode_reward}')\n",
        "          print(f'Running average rewards: {np.mean(episode_rewards[-100:])} \\n')\n",
        "\n",
        "          #Plot graph after each episode\n",
        "          plot_rewards(episode_rewards)\n",
        "\n",
        "          if episode_number % self.save_model_frequency == 0 and episode_number > 0:\n",
        "              agent.model.save(f'model_{episode_number}.h5')\n",
        "\n",
        "      env.close()\n",
        "\n",
        "      agent.model.save(f'model_final.h5')\n",
        "\n",
        "      self.episode_rewards = episode_rewards\n",
        "      self.total_avg = total_avg\n",
        "    \n",
        "    def eval_agent(self, env, agent):\n",
        "      eval_episode_rewards = list()\n",
        "      eval_total_avg = list()\n",
        "      self.step_count = 0\n",
        "      agent.create_models(self.img_dim)\n",
        "      model = keras.models.load_model(self.path)\n",
        "      agent.model.set_weights(model.get_weights())\n",
        "      agent.target_model.set_weights(model.get_weights())\n",
        "\n",
        "      for episode_number in range(self.number_of_episodes):\n",
        "          env.reset()\n",
        "          # First 50 frames are zooming into track so ignore for training!\n",
        "          for i in range(0,50):\n",
        "              s0, _, _, _ = env.step([0.0, 1.0, 0.0])\n",
        "\n",
        "          # Generate episode\n",
        "          print(f'Starting episode number {episode_number}')\n",
        "          episode_reward = self.generate_episode_eval(s0, env, agent, episode_number)\n",
        "          eval_episode_rewards.append(episode_reward)\n",
        "          avg_reward = np.mean(eval_episode_rewards[-100:])\n",
        "          eval_total_avg.append(avg_reward)\n",
        "\n",
        "          clear_output(wait=True)\n",
        "          print(f'Episode Number: {episode_number}')\n",
        "          plt.figure(figsize=(8, 6))\n",
        "          plt.title('Evaluation DQN Agent')\n",
        "          plt.plot([np.mean(eval_episode_rewards[::-1][i:i+100]) for i in range(len(eval_episode_rewards))][::-1], label='Reward')\n",
        "          plt.xlabel('Episode')\n",
        "          plt.ylabel('Reward')\n",
        "          plt.legend()\n",
        "          plt.savefig(f'evaluation_rewards.png')\n",
        "          plt.show()\n",
        "\n",
        "      env.close()\n",
        "\n",
        "    def generate_episode_eval(self, s0, env, agent, episode_number=0):\n",
        "      s0 = env.reset()\n",
        "      episode_rewards = 0\n",
        "      s0 = image_processing(s0,self.img_len)\n",
        "      grayscale_state_buffer = [s0] * self.frame_stack_num * self.frame_interval\n",
        "      s0_stacked = get_stacked_state(grayscale_state_buffer, self.frame_interval, self.img_dim)\n",
        "\n",
        "      while True:\n",
        "          a0 = np.argmax(agent.model.predict(s0_stacked))\n",
        "          s1, reward, done, _ = env.step(agent.actions[a0])\n",
        "          episode_rewards += reward\n",
        "          if done:\n",
        "              break\n",
        "\n",
        "          s1 = image_processing(s1, self.img_len)\n",
        "          grayscale_state_buffer.append(s1)\n",
        "          s0_stacked = get_stacked_state(grayscale_state_buffer,self.frame_interval, self.img_dim)\n",
        "\n",
        "\n",
        "      return episode_rewards\n",
        "\n",
        "    def generate_episode(self, s0, env, agent, episode_number=0):      \n",
        "      episode_reward = 0\n",
        "      episode_step_count = 0\n",
        "      s0 = image_processing(s0, self.img_len)\n",
        "      grayscale_state_buffer = [s0] * self.frame_stack_num * self.frame_interval\n",
        "      s0_stacked = get_stacked_state(grayscale_state_buffer, self.frame_interval, self.img_dim)\n",
        "\n",
        "      while True:\n",
        "          episode_step_count += 1\n",
        "          self.step_count += 1\n",
        "\n",
        "          if np.random.rand() < self.epsilon:\n",
        "              a0 = np.random.choice(np.arange(agent.num_actions), p=agent.action_probs)\n",
        "          else:\n",
        "              a0 = np.argmax(agent.model.predict(s0_stacked))\n",
        "\n",
        "          action_reward = 0\n",
        "          for _ in range(self.action_frames):\n",
        "              s1, reward, done, _ = env.step(agent.actions[a0])\n",
        "              s1 = image_processing(s1, self.img_len)\n",
        "              grayscale_state_buffer.pop(0)\n",
        "              grayscale_state_buffer.append(s1)\n",
        "              action_reward += reward\n",
        "              episode_reward += reward\n",
        "              if done:\n",
        "                  break\n",
        "\n",
        "             \n",
        "          s1_stacked = get_stacked_state(grayscale_state_buffer, self.frame_interval, self.img_dim)\n",
        "          agent.buffer.append((s0_stacked, a0, action_reward, s1_stacked, done))\n",
        "\n",
        "          if len(agent.buffer) >= self.min_replay_memory_size:\n",
        "              agent.experience_replay(self.img_dim, self.step_count, True)\n",
        "\n",
        "          if len(agent.buffer) > self.max_replay_memory_size:\n",
        "              agent.buffer.popleft()\n",
        "\n",
        "          if self.step_count % self.update_target_model_steps == 0:\n",
        "            agent.target_model.set_weights(agent.model.get_weights())\n",
        "\n",
        "          \n",
        "          # End the episode \n",
        "          if done or (episode_step_count > self.max_steps_per_episode):\n",
        "              clear_output(wait=True)\n",
        "              print(f'Episode: {episode_number}')\n",
        "              print(f'Total steps in episode: {episode_step_count}')   \n",
        "              break\n",
        "\n",
        "          s0_stacked = s1_stacked.copy()\n",
        "\n",
        "      return episode_reward\n",
        "\n",
        "\n",
        "    def plot_rewards(self, episode_rewards):\n",
        "      plt.figure(figsize=(8, 6))\n",
        "      plt.title('DQN Agent')\n",
        "      plt.plot(episode_rewards, label='Episode reward', alpha=0.5)\n",
        "      plt.plot([np.mean(episode_rewards[::-1][i:i+100]) for i in range(len(episode_rewards))][::-1], label='Average reward (last 100 episodes)')\n",
        "      plt.xlabel('episode')\n",
        "      plt.ylabel('average reward')\n",
        "      plt.legend()\n",
        "      plt.savefig(f'training_rewards.png')\n",
        "      plt.show()\n"
      ],
      "metadata": {
        "id": "s6hSNHnRygUF"
      },
      "execution_count": 68,
      "outputs": []
    },
    {
      "cell_type": "code",
      "execution_count": null,
      "metadata": {
        "colab": {
          "base_uri": "https://localhost:8080/",
          "height": 734
        },
        "id": "FaLHozotqz5P",
        "outputId": "4b0915b2-3009-4e1c-e4f3-adc1060d85c9"
      },
      "outputs": [
        {
          "output_type": "stream",
          "name": "stdout",
          "text": [
            "Total step count: 128677\n",
            "Epsilon: 0.05\n",
            "Learning rate: 0.0010000000474974513\n",
            "Total reward for episode: 298.16779026215715\n",
            "Running average rewards: 453.32636494185374 \n",
            "\n"
          ]
        },
        {
          "output_type": "display_data",
          "data": {
            "text/plain": [
              "<Figure size 576x432 with 1 Axes>"
            ],
            "image/png": "[encoded data removed]"
          },
          "metadata": {
            "needs_background": "light"
          }
        },
        {
          "output_type": "stream",
          "name": "stdout",
          "text": [
            "Starting episode number 644\n",
            "1/1 [==============================] - 0s 18ms/step\n",
            "1/1 [==============================] - 0s 19ms/step\n",
            "1/1 [==============================] - 0s 18ms/step\n",
            "1/1 [==============================] - 0s 17ms/step\n",
            "1/1 [==============================] - 0s 19ms/step\n",
            "1/1 [==============================] - 0s 21ms/step\n",
            "1/1 [==============================] - 0s 18ms/step\n",
            "1/1 [==============================] - 0s 19ms/step\n",
            "1/1 [==============================] - 0s 19ms/step\n",
            "1/1 [==============================] - 0s 17ms/step\n",
            "1/1 [==============================] - 0s 20ms/step\n",
            "1/1 [==============================] - 0s 19ms/step\n"
          ]
        }
      ],
      "source": [
        "display = Display(visible=0, size=(1400, 900)).start()\n",
        "actions = np.array([[0.0, 1.0, 0.0],\n",
        "                    [1.0, 0.0, 0.0],\n",
        "                    [-1.0, 0.0, 0.0],\n",
        "                    [0.0, 0.0, 0.8],\n",
        "                    [0.0, 0.0, 0.0]]   \n",
        "                )\n",
        "action_probs = np.array([0.5, 0.125, 0.125, 0.125, 0.125])\n",
        "dqn_agent = DQNAgent(actions,\n",
        "                    action_probs,\n",
        "                    lr=0.001, \n",
        "                    batch_size=32,\n",
        "                    gamma=0.99)\n",
        "trainer = Trainer(700, 1)\n",
        "env = RecordVideo(gym.make(\"CarRacing-v2\",verbose=0),'./train_videos/',episode_trigger=lambda x: x % 50 == 0)\n",
        "trainer.train_agent(env,dqn_agent)\n"
      ]
    },
    {
      "cell_type": "code",
      "source": [
        "display = Display(visible=0, size=(1400, 900)).start()\n",
        "actions = np.array([[0.0, 1.0, 0.0],\n",
        "                    [1.0, 0.0, 0.0],\n",
        "                    [-1.0, 0.0, 0.0],\n",
        "                    [0.0, 0.0, 0.8],\n",
        "                    [0.0, 0.0, 0.0]]   \n",
        "                )\n",
        "action_probs = np.array([0.5, 0.125, 0.125, 0.125, 0.125])\n",
        "dqn_agent = DQNAgent(actions,\n",
        "                    action_probs,\n",
        "                    lr=0.001, \n",
        "                    batch_size=32,\n",
        "                    gamma=0.99)\n",
        "env = RecordVideo(gym.make(\"CarRacing-v2\",verbose=0),'./train_videos/',episode_trigger=lambda x: x % 50 == 0)\n",
        "trainer = Trainer(50, 0, path = '/content/model_450.h5')\n",
        "trainer.eval_agent(env,dqn_agent)"
      ],
      "metadata": {
        "colab": {
          "base_uri": "https://localhost:8080/",
          "height": 421
        },
        "id": "L_2w_J78gkiK",
        "outputId": "27ea5b51-76e9-4343-d0eb-7acef14e44ef"
      },
      "execution_count": 70,
      "outputs": [
        {
          "output_type": "stream",
          "name": "stdout",
          "text": [
            "Episode Number: 49\n"
          ]
        },
        {
          "output_type": "display_data",
          "data": {
            "text/plain": [
              "<Figure size 576x432 with 1 Axes>"
            ],
            "image/png": "[encoded data removed]"
          },
          "metadata": {
            "needs_background": "light"
          }
        }
      ]
    }
  ],
  "metadata": {
    "colab": {
      "provenance": [],
      "machine_shape": "hm"
    },
    "gpuClass": "premium",
    "kernelspec": {
      "display_name": "Python 3",
      "name": "python3"
    },
    "language_info": {
      "name": "python"
    }
  },
  "nbformat": 4,
  "nbformat_minor": 0
}