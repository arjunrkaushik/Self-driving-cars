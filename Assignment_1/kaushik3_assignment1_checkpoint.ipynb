{
  "nbformat": 4,
  "nbformat_minor": 0,
  "metadata": {
    "colab": {
      "provenance": []
    },
    "kernelspec": {
      "name": "python3",
      "display_name": "Python 3"
    },
    "language_info": {
      "name": "python"
    }
  },
  "cells": [
    {
      "cell_type": "markdown",
      "source": [
        "#INSTALLING DEPENDENCIES"
      ],
      "metadata": {
        "id": "BautJ5i61kwR"
      }
    },
    {
      "cell_type": "code",
      "execution_count": 1,
      "metadata": {
        "colab": {
          "base_uri": "https://localhost:8080/"
        },
        "id": "BEweSKfGAmOc",
        "outputId": "19145517-e066-4d9c-d074-ce41ab8acc30"
      },
      "outputs": [
        {
          "output_type": "stream",
          "name": "stdout",
          "text": [
            "Looking in indexes: https://pypi.org/simple, https://us-python.pkg.dev/colab-wheels/public/simple/\n",
            "Requirement already satisfied: gym in /usr/local/lib/python3.7/dist-packages (0.25.2)\n",
            "Requirement already satisfied: cloudpickle>=1.2.0 in /usr/local/lib/python3.7/dist-packages (from gym) (1.5.0)\n",
            "Requirement already satisfied: importlib-metadata>=4.8.0 in /usr/local/lib/python3.7/dist-packages (from gym) (4.12.0)\n",
            "Requirement already satisfied: numpy>=1.18.0 in /usr/local/lib/python3.7/dist-packages (from gym) (1.21.6)\n",
            "Requirement already satisfied: gym-notices>=0.0.4 in /usr/local/lib/python3.7/dist-packages (from gym) (0.0.8)\n",
            "Requirement already satisfied: typing-extensions>=3.6.4 in /usr/local/lib/python3.7/dist-packages (from importlib-metadata>=4.8.0->gym) (4.1.1)\n",
            "Requirement already satisfied: zipp>=0.5 in /usr/local/lib/python3.7/dist-packages (from importlib-metadata>=4.8.0->gym) (3.8.1)\n"
          ]
        }
      ],
      "source": [
        "! pip install gym"
      ]
    },
    {
      "cell_type": "code",
      "execution_count": 43,
      "metadata": {
        "id": "u6d0BJczAdGf"
      },
      "outputs": [],
      "source": [
        "import numpy as np\n",
        "import random\n",
        "import gym\n",
        "from gym import spaces\n",
        "import matplotlib.pyplot as plt"
      ]
    },
    {
      "cell_type": "code",
      "source": [
        "from google.colab import widgets\n",
        "import time"
      ],
      "metadata": {
        "id": "TJ2kNRHPmpxC"
      },
      "execution_count": 44,
      "outputs": []
    },
    {
      "cell_type": "markdown",
      "source": [
        "#GRID DESIGN"
      ],
      "metadata": {
        "id": "h2FT-6tb0bIH"
      }
    },
    {
      "cell_type": "code",
      "source": [
        "grid = np.zeros((4, 4))\n",
        "print(grid)"
      ],
      "metadata": {
        "colab": {
          "base_uri": "https://localhost:8080/"
        },
        "id": "yXni8xzVB7_I",
        "outputId": "5592426b-1479-4474-f3f3-8227cf9e7b78"
      },
      "execution_count": 45,
      "outputs": [
        {
          "output_type": "stream",
          "name": "stdout",
          "text": [
            "[[0. 0. 0. 0.]\n",
            " [0. 0. 0. 0.]\n",
            " [0. 0. 0. 0.]\n",
            " [0. 0. 0. 0.]]\n"
          ]
        }
      ]
    },
    {
      "cell_type": "code",
      "source": [
        "pos1 = [0, 0] #start position of agent\n",
        "pos2 = [0, 3] #position of diamond in the grid\n",
        "pos3 = [2, 3] #position of coin in the grid\n",
        "pos4 = [1, 2] #position of fire(negative reward) in the grid\n",
        "pos5 = [2, 1] #position of wall(negative reward) in the grid\n",
        "pos6 = [3, 3] #position of end goal"
      ],
      "metadata": {
        "id": "zNqIapCxFUSV"
      },
      "execution_count": 46,
      "outputs": []
    },
    {
      "cell_type": "code",
      "source": [
        "grid[tuple(pos1)] = 120 #start position of agent\n",
        "grid[tuple(pos2)] = 80  #position of diamond in the grid\n",
        "grid[tuple(pos3)] = 60  #position of coin in the grid\n",
        "grid[tuple(pos4)] = -30 #position of fire(negative reward) in the grid\n",
        "grid[tuple(pos5)] = -20 #position of wall(negative reward) in the grid\n",
        "grid[tuple(pos6)] = 100 #position of end goal"
      ],
      "metadata": {
        "id": "OykhmyGqFX9Y"
      },
      "execution_count": 47,
      "outputs": []
    },
    {
      "cell_type": "code",
      "source": [
        "plt.imshow(grid)"
      ],
      "metadata": {
        "colab": {
          "base_uri": "https://localhost:8080/",
          "height": 286
        },
        "id": "X6nzdlXqFZ0I",
        "outputId": "013043f0-42da-492c-8024-fc341861f6c2"
      },
      "execution_count": 48,
      "outputs": [
        {
          "output_type": "execute_result",
          "data": {
            "text/plain": [
              "<matplotlib.image.AxesImage at 0x7fa52f253090>"
            ]
          },
          "metadata": {},
          "execution_count": 48
        },
        {
          "output_type": "display_data",
          "data": {
            "text/plain": [
              "<Figure size 432x288 with 1 Axes>"
            ],
            "image/png": "[encoded data removed]"
          },
          "metadata": {
            "needs_background": "light"
          }
        }
      ]
    },
    {
      "cell_type": "markdown",
      "source": [
        "#DETERMINISTIC ENVIRONMENT"
      ],
      "metadata": {
        "id": "6wwDsP130gZ8"
      }
    },
    {
      "cell_type": "code",
      "source": [
        "class Deterministic_Environment(gym.Env):\n",
        "    \n",
        "    def __init__(self):\n",
        "        self.observation_space = spaces.Discrete(16)\n",
        "        self.action_space = spaces.Discrete(4)\n",
        "        self.max_timesteps = 20\n",
        "        \n",
        "    def reset(self):\n",
        "        self.timestep = 0\n",
        "        self.agent_pos = [0, 0]\n",
        "        self.diamond_pos = [0, 3]\n",
        "        self.coin_pos = [2, 3]\n",
        "        self.fire_pos = [1, 2]\n",
        "        self.wall_pos = [2, 1]\n",
        "        self.goal_pos = [3, 3]\n",
        "        self.state = np.zeros((4, 4))\n",
        "        self.state[tuple(self.agent_pos)] = 120\n",
        "        self.state[tuple(self.diamond_pos)] = 80\n",
        "        self.state[tuple(self.coin_pos)] = 60\n",
        "        self.state[tuple(self.fire_pos)] = -30\n",
        "        self.state[tuple(self.wall_pos)] = -20\n",
        "        self.state[tuple(self.goal_pos)] = 100\n",
        "        observation = self.state.flatten()\n",
        "        \n",
        "        return observation\n",
        "    \n",
        "    def step(self, action):\n",
        "        self.state = np.random.choice(self.observation_space.n)\n",
        "        if action == 0:\n",
        "          '''Move down'''\n",
        "          self.agent_pos[0] += 1 \n",
        "        if action == 1:\n",
        "          '''Move up'''\n",
        "          self.agent_pos[0] -= 1\n",
        "        if action == 2:\n",
        "          '''Move right'''\n",
        "          self.agent_pos[1] += 1\n",
        "        if action == 3:\n",
        "          '''Move left'''\n",
        "          self.agent_pos[1] -= 1\n",
        "        ''' np.clip makes sure agent stays within bounds of grid'''  \n",
        "        self.agent_pos = np.clip(self.agent_pos, 0, 3)\n",
        "        \n",
        "        self.state = np.zeros((4,4))\n",
        "        self.state[tuple(self.agent_pos)] = 120\n",
        "        self.state[tuple(self.diamond_pos)] = 80\n",
        "        self.state[tuple(self.coin_pos)] = 60\n",
        "        self.state[tuple(self.fire_pos)] = -30\n",
        "        self.state[tuple(self.wall_pos)] = -20\n",
        "        self.state[tuple(self.goal_pos)] = 100\n",
        "        observation = self.state.flatten()\n",
        "        \n",
        "        reward = 0\n",
        "        if (self.agent_pos == self.goal_pos).all():\n",
        "            reward = 10\n",
        "        if (self.agent_pos == self.diamond_pos).all():\n",
        "            reward = 6\n",
        "        if (self.agent_pos == self.coin_pos).all():\n",
        "            reward = 3\n",
        "        if (self.agent_pos == self.fire_pos).all():\n",
        "            reward = -5\n",
        "        if (self.agent_pos == self.wall_pos).all():\n",
        "            reward = -1\n",
        "            \n",
        "        self.timestep += 1\n",
        "        ''' tracks when the loop should end - either run out of timesteps or agent reaches end goal position '''\n",
        "        done = True if self.timestep >= self.max_timesteps  or (tuple(self.agent_pos) == tuple(self.goal_pos)) else False\n",
        "        \n",
        "        info = {}\n",
        "        \n",
        "        return observation, reward, done, info\n",
        "    \n",
        "    def render(self):\n",
        "        plt.imshow(self.state)"
      ],
      "metadata": {
        "id": "zQEMup9nFblo"
      },
      "execution_count": 92,
      "outputs": []
    },
    {
      "cell_type": "markdown",
      "source": [
        "#STOCHASTIC ENVIRONMENT"
      ],
      "metadata": {
        "id": "WlBUSWFJ0mNl"
      }
    },
    {
      "cell_type": "code",
      "source": [
        "class Stochastic_Environment(gym.Env):\n",
        "    \n",
        "    def __init__(self):\n",
        "        self.observation_space = spaces.Discrete(16)\n",
        "        self.action_space = spaces.Discrete(4)\n",
        "        self.max_timesteps = 20\n",
        "        \n",
        "    def reset(self):\n",
        "        self.timestep = 0\n",
        "        self.agent_pos = [0, 0]\n",
        "        self.diamond_pos = [0, 3]\n",
        "        self.coin_pos = [2, 3]\n",
        "        self.fire_pos = [1, 2]\n",
        "        self.wall_pos = [2, 1]\n",
        "        self.goal_pos = [3, 3]\n",
        "        self.state = np.zeros((4, 4))\n",
        "        self.state[tuple(self.agent_pos)] = 120\n",
        "        self.state[tuple(self.diamond_pos)] = 80\n",
        "        self.state[tuple(self.coin_pos)] = 60\n",
        "        self.state[tuple(self.fire_pos)] = -30\n",
        "        self.state[tuple(self.wall_pos)] = -20\n",
        "        self.state[tuple(self.goal_pos)] = 100\n",
        "        observation = self.state.flatten()\n",
        "        \n",
        "        return observation\n",
        "    \n",
        "    def step(self, action):\n",
        "        self.state = np.random.choice(self.observation_space.n)\n",
        "\n",
        "        '''Generates random value between 0 and 1 for every action'''\n",
        "        temp = random.uniform(0,1)\n",
        "\n",
        "        '''3 states in the environment which are stochastic'''\n",
        "        self.stochastic_pos1 = [3,0]\n",
        "        self.stochastic_pos2 = [0,3]\n",
        "        self.stochastic_pos3 = [2,2]\n",
        "\n",
        "        '''If the agent comes to one of the stochastic states and temp variable is more than 0.4, the action is randomized'''\n",
        "        if (tuple(self.agent_pos) == tuple(self.stochastic_pos1)) or (tuple(self.agent_pos) == tuple(self.stochastic_pos2)) or (tuple(self.agent_pos) == tuple(self.stochastic_pos3)):\n",
        "          if temp > 0.4:\n",
        "            action_new = random.choice([i for i in range(4) if i != action])\n",
        "            action = action_new\n",
        "\n",
        "        if action == 0:\n",
        "          '''Moves down'''\n",
        "          self.agent_pos[0] += 1\n",
        "        if action == 1:\n",
        "          '''Moves up'''\n",
        "          self.agent_pos[0] -= 1\n",
        "        if action == 2:\n",
        "          '''Moves right'''\n",
        "          self.agent_pos[1] += 1\n",
        "        if action == 3:\n",
        "          '''Moves left'''\n",
        "          self.agent_pos[1] -= 1\n",
        "        \n",
        "        ''' np.clip makes sure agent stays within bounds of grid'''\n",
        "        self.agent_pos = np.clip(self.agent_pos, 0, 3)\n",
        "\n",
        "        self.state = np.zeros((4,4))\n",
        "        self.state[tuple(self.agent_pos)] = 120\n",
        "        self.state[tuple(self.diamond_pos)] = 80\n",
        "        self.state[tuple(self.coin_pos)] = 60\n",
        "        self.state[tuple(self.fire_pos)] = -30\n",
        "        self.state[tuple(self.wall_pos)] = -20\n",
        "        self.state[tuple(self.goal_pos)] = 100\n",
        "        observation = self.state.flatten()\n",
        "        \n",
        "        reward = 0\n",
        "        if (self.agent_pos == self.goal_pos).all():\n",
        "            reward = 10\n",
        "        if (self.agent_pos == self.diamond_pos).all():\n",
        "            reward = 6\n",
        "        if (self.agent_pos == self.coin_pos).all():\n",
        "            reward = 3\n",
        "        if (self.agent_pos == self.fire_pos).all():\n",
        "            reward = -5\n",
        "        if (self.agent_pos == self.wall_pos).all():\n",
        "            reward = -1\n",
        "            \n",
        "        self.timestep += 1\n",
        "        ''' tracks when the loop should end - either run out of timesteps or agent reaches end goal position '''\n",
        "        done = True if self.timestep >= self.max_timesteps  or (tuple(self.agent_pos) == tuple(self.goal_pos)) else False\n",
        "        \n",
        "        info = {}\n",
        "        \n",
        "        return observation, reward, done, info\n",
        "    \n",
        "    def render(self):\n",
        "        plt.imshow(self.state)"
      ],
      "metadata": {
        "id": "ID5fwoyA_CB1"
      },
      "execution_count": 123,
      "outputs": []
    },
    {
      "cell_type": "markdown",
      "source": [
        "#RANDOM AGENT"
      ],
      "metadata": {
        "id": "goKweIZj03iB"
      }
    },
    {
      "cell_type": "code",
      "source": [
        "class RandomAgent:\n",
        "  def __init__(self, env):\n",
        "    self.env = env\n",
        "    self.observation_space = env.observation_space\n",
        "    self.action_space = env.action_space\n",
        "\n",
        "  def step(self, observation):\n",
        "    return np.random.choice(self.action_space.n)"
      ],
      "metadata": {
        "id": "iYwYdozsjVl8"
      },
      "execution_count": 93,
      "outputs": []
    },
    {
      "cell_type": "markdown",
      "source": [
        "###Running the RandomAgent in Deterministic Environment"
      ],
      "metadata": {
        "id": "TIpZTGye1CAH"
      }
    },
    {
      "cell_type": "code",
      "source": [
        "env = Deterministic_Environment()\n",
        "agent = RandomAgent(env)\n",
        "obs = env.reset()\n",
        "env.render()"
      ],
      "metadata": {
        "colab": {
          "base_uri": "https://localhost:8080/",
          "height": 269
        },
        "id": "eygTR_QNnU0R",
        "outputId": "7539209b-568c-4bdd-96ac-4ae6a6c34664"
      },
      "execution_count": 134,
      "outputs": [
        {
          "output_type": "display_data",
          "data": {
            "text/plain": [
              "<Figure size 432x288 with 1 Axes>"
            ],
            "image/png": "[encoded data removed]"
          },
          "metadata": {
            "needs_background": "light"
          }
        }
      ]
    },
    {
      "cell_type": "code",
      "source": [
        "done = False\n",
        "\n",
        "output_grid = widgets.Grid(1, 1)\n",
        "with output_grid.output_to(0, 0):\n",
        "  env.render()\n",
        "\n",
        "i=0\n",
        "while not done:\n",
        "  action = agent.step(obs)\n",
        "  obs, reward, done, info = env.step(action)\n",
        "  print(\"At timestep \" + str(i) + \", Agent position: \" + str(env.agent_pos) + \" Reward: \" + str(reward))\n",
        "  i = i + 1\n",
        "  with output_grid.output_to(0, 0):\n",
        "    output_grid.clear_cell()\n",
        "    env.render()\n",
        "  time.sleep(1)"
      ],
      "metadata": {
        "colab": {
          "base_uri": "https://localhost:8080/",
          "height": 568
        },
        "id": "ZbsyCytujeNn",
        "outputId": "e51f001c-4252-4151-eb29-0ff4698f2806"
      },
      "execution_count": 135,
      "outputs": [
        {
          "output_type": "display_data",
          "data": {
            "text/plain": [
              "<IPython.core.display.HTML object>"
            ],
            "text/html": [
              "<style>\n",
              "       table#id78, #id78 > tbody > tr > th, #id78 > tbody > tr > td {\n",
              "         border: 1px solid lightgray;\n",
              "         border-collapse:collapse;\n",
              "         \n",
              "        }</style>"
            ]
          },
          "metadata": {}
        },
        {
          "output_type": "display_data",
          "data": {
            "text/plain": [
              "<IPython.core.display.HTML object>"
            ],
            "text/html": [
              "<table id=id78><tr><td id=id78-0-0></td></tr></table>"
            ]
          },
          "metadata": {}
        },
        {
          "output_type": "display_data",
          "data": {
            "text/plain": [
              "<IPython.core.display.Javascript object>"
            ],
            "application/javascript": [
              "window[\"289a310a-32ea-11ed-9211-0242ac1c0002\"] = google.colab.output.getActiveOutputArea();\n",
              "//# sourceURL=js_ed6fd276ff"
            ]
          },
          "metadata": {}
        },
        {
          "output_type": "display_data",
          "data": {
            "text/plain": [
              "<IPython.core.display.Javascript object>"
            ],
            "application/javascript": [
              "window[\"289a8a10-32ea-11ed-9211-0242ac1c0002\"] = document.querySelector(\"#id78-0-0\");\n",
              "//# sourceURL=js_c5882fdaf9"
            ]
          },
          "metadata": {}
        },
        {
          "output_type": "display_data",
          "data": {
            "text/plain": [
              "<IPython.core.display.Javascript object>"
            ],
            "application/javascript": [
              "window[\"289ae10e-32ea-11ed-9211-0242ac1c0002\"] = google.colab.output.setActiveOutputArea(window[\"289a8a10-32ea-11ed-9211-0242ac1c0002\"]);\n",
              "//# sourceURL=js_85e06cc2e1"
            ]
          },
          "metadata": {}
        },
        {
          "output_type": "display_data",
          "data": {
            "text/plain": [
              "<IPython.core.display.Javascript object>"
            ],
            "application/javascript": [
              "window[\"28b356d0-32ea-11ed-9211-0242ac1c0002\"] = google.colab.output.setActiveOutputArea(window[\"289a310a-32ea-11ed-9211-0242ac1c0002\"]);\n",
              "//# sourceURL=js_ddf31d7651"
            ]
          },
          "metadata": {}
        },
        {
          "output_type": "stream",
          "name": "stdout",
          "text": [
            "At timestep 0, Agent position: [0 0] Reward: 0\n"
          ]
        },
        {
          "output_type": "display_data",
          "data": {
            "text/plain": [
              "<IPython.core.display.Javascript object>"
            ],
            "application/javascript": [
              "window[\"28b78200-32ea-11ed-9211-0242ac1c0002\"] = google.colab.output.getActiveOutputArea();\n",
              "//# sourceURL=js_65533a4382"
            ]
          },
          "metadata": {}
        },
        {
          "output_type": "display_data",
          "data": {
            "text/plain": [
              "<IPython.core.display.Javascript object>"
            ],
            "application/javascript": [
              "window[\"28b7e4ac-32ea-11ed-9211-0242ac1c0002\"] = document.querySelector(\"#id78-0-0\");\n",
              "//# sourceURL=js_74f094fcc1"
            ]
          },
          "metadata": {}
        },
        {
          "output_type": "display_data",
          "data": {
            "text/plain": [
              "<IPython.core.display.Javascript object>"
            ],
            "application/javascript": [
              "window[\"28b84d7a-32ea-11ed-9211-0242ac1c0002\"] = google.colab.output.setActiveOutputArea(window[\"28b7e4ac-32ea-11ed-9211-0242ac1c0002\"]);\n",
              "//# sourceURL=js_35e6048bfd"
            ]
          },
          "metadata": {}
        },
        {
          "output_type": "display_data",
          "data": {
            "text/plain": [
              "<IPython.core.display.Javascript object>"
            ],
            "application/javascript": [
              "window[\"28d0934e-32ea-11ed-9211-0242ac1c0002\"] = google.colab.output.setActiveOutputArea(window[\"28b78200-32ea-11ed-9211-0242ac1c0002\"]);\n",
              "//# sourceURL=js_3c3c1e8659"
            ]
          },
          "metadata": {}
        },
        {
          "output_type": "stream",
          "name": "stdout",
          "text": [
            "At timestep 1, Agent position: [0 0] Reward: 0\n"
          ]
        },
        {
          "output_type": "display_data",
          "data": {
            "text/plain": [
              "<IPython.core.display.Javascript object>"
            ],
            "application/javascript": [
              "window[\"296ce924-32ea-11ed-9211-0242ac1c0002\"] = google.colab.output.getActiveOutputArea();\n",
              "//# sourceURL=js_dba88b0258"
            ]
          },
          "metadata": {}
        },
        {
          "output_type": "display_data",
          "data": {
            "text/plain": [
              "<IPython.core.display.Javascript object>"
            ],
            "application/javascript": [
              "window[\"296d4edc-32ea-11ed-9211-0242ac1c0002\"] = document.querySelector(\"#id78-0-0\");\n",
              "//# sourceURL=js_ba74c5b764"
            ]
          },
          "metadata": {}
        },
        {
          "output_type": "display_data",
          "data": {
            "text/plain": [
              "<IPython.core.display.Javascript object>"
            ],
            "application/javascript": [
              "window[\"296db138-32ea-11ed-9211-0242ac1c0002\"] = google.colab.output.setActiveOutputArea(window[\"296d4edc-32ea-11ed-9211-0242ac1c0002\"]);\n",
              "//# sourceURL=js_dbd6ead6b8"
            ]
          },
          "metadata": {}
        },
        {
          "output_type": "display_data",
          "data": {
            "text/plain": [
              "<IPython.core.display.Javascript object>"
            ],
            "application/javascript": [
              "window[\"2989320a-32ea-11ed-9211-0242ac1c0002\"] = google.colab.output.setActiveOutputArea(window[\"296ce924-32ea-11ed-9211-0242ac1c0002\"]);\n",
              "//# sourceURL=js_9cf3339b9e"
            ]
          },
          "metadata": {}
        },
        {
          "output_type": "stream",
          "name": "stdout",
          "text": [
            "At timestep 2, Agent position: [0 0] Reward: 0\n"
          ]
        },
        {
          "output_type": "display_data",
          "data": {
            "text/plain": [
              "<IPython.core.display.Javascript object>"
            ],
            "application/javascript": [
              "window[\"2a252f20-32ea-11ed-9211-0242ac1c0002\"] = google.colab.output.getActiveOutputArea();\n",
              "//# sourceURL=js_c221ab5683"
            ]
          },
          "metadata": {}
        },
        {
          "output_type": "display_data",
          "data": {
            "text/plain": [
              "<IPython.core.display.Javascript object>"
            ],
            "application/javascript": [
              "window[\"2a25872c-32ea-11ed-9211-0242ac1c0002\"] = document.querySelector(\"#id78-0-0\");\n",
              "//# sourceURL=js_e5bbee51c7"
            ]
          },
          "metadata": {}
        },
        {
          "output_type": "display_data",
          "data": {
            "text/plain": [
              "<IPython.core.display.Javascript object>"
            ],
            "application/javascript": [
              "window[\"2a262132-32ea-11ed-9211-0242ac1c0002\"] = google.colab.output.setActiveOutputArea(window[\"2a25872c-32ea-11ed-9211-0242ac1c0002\"]);\n",
              "//# sourceURL=js_20d61db874"
            ]
          },
          "metadata": {}
        },
        {
          "output_type": "display_data",
          "data": {
            "text/plain": [
              "<IPython.core.display.Javascript object>"
            ],
            "application/javascript": [
              "window[\"2a3d3b10-32ea-11ed-9211-0242ac1c0002\"] = google.colab.output.setActiveOutputArea(window[\"2a252f20-32ea-11ed-9211-0242ac1c0002\"]);\n",
              "//# sourceURL=js_455a7d1e4f"
            ]
          },
          "metadata": {}
        },
        {
          "output_type": "stream",
          "name": "stdout",
          "text": [
            "At timestep 3, Agent position: [0 0] Reward: 0\n"
          ]
        },
        {
          "output_type": "display_data",
          "data": {
            "text/plain": [
              "<IPython.core.display.Javascript object>"
            ],
            "application/javascript": [
              "window[\"2adadf00-32ea-11ed-9211-0242ac1c0002\"] = google.colab.output.getActiveOutputArea();\n",
              "//# sourceURL=js_a5a71536af"
            ]
          },
          "metadata": {}
        },
        {
          "output_type": "display_data",
          "data": {
            "text/plain": [
              "<IPython.core.display.Javascript object>"
            ],
            "application/javascript": [
              "window[\"2adb839c-32ea-11ed-9211-0242ac1c0002\"] = document.querySelector(\"#id78-0-0\");\n",
              "//# sourceURL=js_d6bacc867e"
            ]
          },
          "metadata": {}
        },
        {
          "output_type": "display_data",
          "data": {
            "text/plain": [
              "<IPython.core.display.Javascript object>"
            ],
            "application/javascript": [
              "window[\"2adc5588-32ea-11ed-9211-0242ac1c0002\"] = google.colab.output.setActiveOutputArea(window[\"2adb839c-32ea-11ed-9211-0242ac1c0002\"]);\n",
              "//# sourceURL=js_40afcdfcd1"
            ]
          },
          "metadata": {}
        },
        {
          "output_type": "display_data",
          "data": {
            "text/plain": [
              "<IPython.core.display.Javascript object>"
            ],
            "application/javascript": [
              "window[\"2af48766-32ea-11ed-9211-0242ac1c0002\"] = google.colab.output.setActiveOutputArea(window[\"2adadf00-32ea-11ed-9211-0242ac1c0002\"]);\n",
              "//# sourceURL=js_878835b9b5"
            ]
          },
          "metadata": {}
        },
        {
          "output_type": "stream",
          "name": "stdout",
          "text": [
            "At timestep 4, Agent position: [0 0] Reward: 0\n"
          ]
        },
        {
          "output_type": "display_data",
          "data": {
            "text/plain": [
              "<IPython.core.display.Javascript object>"
            ],
            "application/javascript": [
              "window[\"2b9197c2-32ea-11ed-9211-0242ac1c0002\"] = google.colab.output.getActiveOutputArea();\n",
              "//# sourceURL=js_9047879d15"
            ]
          },
          "metadata": {}
        },
        {
          "output_type": "display_data",
          "data": {
            "text/plain": [
              "<IPython.core.display.Javascript object>"
            ],
            "application/javascript": [
              "window[\"2b91f3c0-32ea-11ed-9211-0242ac1c0002\"] = document.querySelector(\"#id78-0-0\");\n",
              "//# sourceURL=js_19b9f4e5f4"
            ]
          },
          "metadata": {}
        },
        {
          "output_type": "display_data",
          "data": {
            "text/plain": [
              "<IPython.core.display.Javascript object>"
            ],
            "application/javascript": [
              "window[\"2b925d74-32ea-11ed-9211-0242ac1c0002\"] = google.colab.output.setActiveOutputArea(window[\"2b91f3c0-32ea-11ed-9211-0242ac1c0002\"]);\n",
              "//# sourceURL=js_92d9c7fba9"
            ]
          },
          "metadata": {}
        },
        {
          "output_type": "display_data",
          "data": {
            "text/plain": [
              "<IPython.core.display.Javascript object>"
            ],
            "application/javascript": [
              "window[\"2bab98c0-32ea-11ed-9211-0242ac1c0002\"] = google.colab.output.setActiveOutputArea(window[\"2b9197c2-32ea-11ed-9211-0242ac1c0002\"]);\n",
              "//# sourceURL=js_8ba73a650a"
            ]
          },
          "metadata": {}
        },
        {
          "output_type": "stream",
          "name": "stdout",
          "text": [
            "At timestep 5, Agent position: [1 0] Reward: 0\n"
          ]
        },
        {
          "output_type": "display_data",
          "data": {
            "text/plain": [
              "<IPython.core.display.Javascript object>"
            ],
            "application/javascript": [
              "window[\"2c478424-32ea-11ed-9211-0242ac1c0002\"] = google.colab.output.getActiveOutputArea();\n",
              "//# sourceURL=js_139e2588e1"
            ]
          },
          "metadata": {}
        },
        {
          "output_type": "display_data",
          "data": {
            "text/plain": [
              "<IPython.core.display.Javascript object>"
            ],
            "application/javascript": [
              "window[\"2c47e824-32ea-11ed-9211-0242ac1c0002\"] = document.querySelector(\"#id78-0-0\");\n",
              "//# sourceURL=js_e733bc6153"
            ]
          },
          "metadata": {}
        },
        {
          "output_type": "display_data",
          "data": {
            "text/plain": [
              "<IPython.core.display.Javascript object>"
            ],
            "application/javascript": [
              "window[\"2c483df6-32ea-11ed-9211-0242ac1c0002\"] = google.colab.output.setActiveOutputArea(window[\"2c47e824-32ea-11ed-9211-0242ac1c0002\"]);\n",
              "//# sourceURL=js_a4acf5d11c"
            ]
          },
          "metadata": {}
        },
        {
          "output_type": "display_data",
          "data": {
            "text/plain": [
              "<IPython.core.display.Javascript object>"
            ],
            "application/javascript": [
              "window[\"2c605b16-32ea-11ed-9211-0242ac1c0002\"] = google.colab.output.setActiveOutputArea(window[\"2c478424-32ea-11ed-9211-0242ac1c0002\"]);\n",
              "//# sourceURL=js_81d3a6efd9"
            ]
          },
          "metadata": {}
        },
        {
          "output_type": "stream",
          "name": "stdout",
          "text": [
            "At timestep 6, Agent position: [1 1] Reward: 0\n"
          ]
        },
        {
          "output_type": "display_data",
          "data": {
            "text/plain": [
              "<IPython.core.display.Javascript object>"
            ],
            "application/javascript": [
              "window[\"2cfdb10e-32ea-11ed-9211-0242ac1c0002\"] = google.colab.output.getActiveOutputArea();\n",
              "//# sourceURL=js_77489ac313"
            ]
          },
          "metadata": {}
        },
        {
          "output_type": "display_data",
          "data": {
            "text/plain": [
              "<IPython.core.display.Javascript object>"
            ],
            "application/javascript": [
              "window[\"2cfe7cc4-32ea-11ed-9211-0242ac1c0002\"] = document.querySelector(\"#id78-0-0\");\n",
              "//# sourceURL=js_b1515eda4e"
            ]
          },
          "metadata": {}
        },
        {
          "output_type": "display_data",
          "data": {
            "text/plain": [
              "<IPython.core.display.Javascript object>"
            ],
            "application/javascript": [
              "window[\"2cfeced6-32ea-11ed-9211-0242ac1c0002\"] = google.colab.output.setActiveOutputArea(window[\"2cfe7cc4-32ea-11ed-9211-0242ac1c0002\"]);\n",
              "//# sourceURL=js_6c9d1bf387"
            ]
          },
          "metadata": {}
        },
        {
          "output_type": "display_data",
          "data": {
            "text/plain": [
              "<IPython.core.display.Javascript object>"
            ],
            "application/javascript": [
              "window[\"2d165614-32ea-11ed-9211-0242ac1c0002\"] = google.colab.output.setActiveOutputArea(window[\"2cfdb10e-32ea-11ed-9211-0242ac1c0002\"]);\n",
              "//# sourceURL=js_9ebf6a28d7"
            ]
          },
          "metadata": {}
        },
        {
          "output_type": "stream",
          "name": "stdout",
          "text": [
            "At timestep 7, Agent position: [1 0] Reward: 0\n"
          ]
        },
        {
          "output_type": "display_data",
          "data": {
            "text/plain": [
              "<IPython.core.display.Javascript object>"
            ],
            "application/javascript": [
              "window[\"2db22f8a-32ea-11ed-9211-0242ac1c0002\"] = google.colab.output.getActiveOutputArea();\n",
              "//# sourceURL=js_8665f77d72"
            ]
          },
          "metadata": {}
        },
        {
          "output_type": "display_data",
          "data": {
            "text/plain": [
              "<IPython.core.display.Javascript object>"
            ],
            "application/javascript": [
              "window[\"2db2eb14-32ea-11ed-9211-0242ac1c0002\"] = document.querySelector(\"#id78-0-0\");\n",
              "//# sourceURL=js_7ef276d5e4"
            ]
          },
          "metadata": {}
        },
        {
          "output_type": "display_data",
          "data": {
            "text/plain": [
              "<IPython.core.display.Javascript object>"
            ],
            "application/javascript": [
              "window[\"2db34c58-32ea-11ed-9211-0242ac1c0002\"] = google.colab.output.setActiveOutputArea(window[\"2db2eb14-32ea-11ed-9211-0242ac1c0002\"]);\n",
              "//# sourceURL=js_e353dc106d"
            ]
          },
          "metadata": {}
        },
        {
          "output_type": "display_data",
          "data": {
            "text/plain": [
              "<IPython.core.display.Javascript object>"
            ],
            "application/javascript": [
              "window[\"2dce607e-32ea-11ed-9211-0242ac1c0002\"] = google.colab.output.setActiveOutputArea(window[\"2db22f8a-32ea-11ed-9211-0242ac1c0002\"]);\n",
              "//# sourceURL=js_09b42d30c9"
            ]
          },
          "metadata": {}
        },
        {
          "output_type": "stream",
          "name": "stdout",
          "text": [
            "At timestep 8, Agent position: [1 0] Reward: 0\n"
          ]
        },
        {
          "output_type": "display_data",
          "data": {
            "text/plain": [
              "<IPython.core.display.Javascript object>"
            ],
            "application/javascript": [
              "window[\"2e6a3e68-32ea-11ed-9211-0242ac1c0002\"] = google.colab.output.getActiveOutputArea();\n",
              "//# sourceURL=js_e692595036"
            ]
          },
          "metadata": {}
        },
        {
          "output_type": "display_data",
          "data": {
            "text/plain": [
              "<IPython.core.display.Javascript object>"
            ],
            "application/javascript": [
              "window[\"2e6ac928-32ea-11ed-9211-0242ac1c0002\"] = document.querySelector(\"#id78-0-0\");\n",
              "//# sourceURL=js_935dd44a21"
            ]
          },
          "metadata": {}
        },
        {
          "output_type": "display_data",
          "data": {
            "text/plain": [
              "<IPython.core.display.Javascript object>"
            ],
            "application/javascript": [
              "window[\"2e6b54ce-32ea-11ed-9211-0242ac1c0002\"] = google.colab.output.setActiveOutputArea(window[\"2e6ac928-32ea-11ed-9211-0242ac1c0002\"]);\n",
              "//# sourceURL=js_2edec45ad0"
            ]
          },
          "metadata": {}
        },
        {
          "output_type": "display_data",
          "data": {
            "text/plain": [
              "<IPython.core.display.Javascript object>"
            ],
            "application/javascript": [
              "window[\"2e9132b6-32ea-11ed-9211-0242ac1c0002\"] = google.colab.output.setActiveOutputArea(window[\"2e6a3e68-32ea-11ed-9211-0242ac1c0002\"]);\n",
              "//# sourceURL=js_5e8e05c7fd"
            ]
          },
          "metadata": {}
        },
        {
          "output_type": "stream",
          "name": "stdout",
          "text": [
            "At timestep 9, Agent position: [1 0] Reward: 0\n"
          ]
        },
        {
          "output_type": "display_data",
          "data": {
            "text/plain": [
              "<IPython.core.display.Javascript object>"
            ],
            "application/javascript": [
              "window[\"2f2c4d64-32ea-11ed-9211-0242ac1c0002\"] = google.colab.output.getActiveOutputArea();\n",
              "//# sourceURL=js_d5e018ebd2"
            ]
          },
          "metadata": {}
        },
        {
          "output_type": "display_data",
          "data": {
            "text/plain": [
              "<IPython.core.display.Javascript object>"
            ],
            "application/javascript": [
              "window[\"2f2ca99e-32ea-11ed-9211-0242ac1c0002\"] = document.querySelector(\"#id78-0-0\");\n",
              "//# sourceURL=js_43cb743501"
            ]
          },
          "metadata": {}
        },
        {
          "output_type": "display_data",
          "data": {
            "text/plain": [
              "<IPython.core.display.Javascript object>"
            ],
            "application/javascript": [
              "window[\"2f2d03a8-32ea-11ed-9211-0242ac1c0002\"] = google.colab.output.setActiveOutputArea(window[\"2f2ca99e-32ea-11ed-9211-0242ac1c0002\"]);\n",
              "//# sourceURL=js_12eaaf982b"
            ]
          },
          "metadata": {}
        },
        {
          "output_type": "display_data",
          "data": {
            "text/plain": [
              "<IPython.core.display.Javascript object>"
            ],
            "application/javascript": [
              "window[\"2f4606a0-32ea-11ed-9211-0242ac1c0002\"] = google.colab.output.setActiveOutputArea(window[\"2f2c4d64-32ea-11ed-9211-0242ac1c0002\"]);\n",
              "//# sourceURL=js_87e8d0b822"
            ]
          },
          "metadata": {}
        },
        {
          "output_type": "stream",
          "name": "stdout",
          "text": [
            "At timestep 10, Agent position: [0 0] Reward: 0\n"
          ]
        },
        {
          "output_type": "display_data",
          "data": {
            "text/plain": [
              "<IPython.core.display.Javascript object>"
            ],
            "application/javascript": [
              "window[\"2fe1b316-32ea-11ed-9211-0242ac1c0002\"] = google.colab.output.getActiveOutputArea();\n",
              "//# sourceURL=js_1d5ece2424"
            ]
          },
          "metadata": {}
        },
        {
          "output_type": "display_data",
          "data": {
            "text/plain": [
              "<IPython.core.display.Javascript object>"
            ],
            "application/javascript": [
              "window[\"2fe20fa0-32ea-11ed-9211-0242ac1c0002\"] = document.querySelector(\"#id78-0-0\");\n",
              "//# sourceURL=js_f7bebe3219"
            ]
          },
          "metadata": {}
        },
        {
          "output_type": "display_data",
          "data": {
            "text/plain": [
              "<IPython.core.display.Javascript object>"
            ],
            "application/javascript": [
              "window[\"2fe276e8-32ea-11ed-9211-0242ac1c0002\"] = google.colab.output.setActiveOutputArea(window[\"2fe20fa0-32ea-11ed-9211-0242ac1c0002\"]);\n",
              "//# sourceURL=js_52631be441"
            ]
          },
          "metadata": {}
        },
        {
          "output_type": "display_data",
          "data": {
            "text/plain": [
              "<IPython.core.display.Javascript object>"
            ],
            "application/javascript": [
              "window[\"2ff9c9e2-32ea-11ed-9211-0242ac1c0002\"] = google.colab.output.setActiveOutputArea(window[\"2fe1b316-32ea-11ed-9211-0242ac1c0002\"]);\n",
              "//# sourceURL=js_cb3307b98d"
            ]
          },
          "metadata": {}
        },
        {
          "output_type": "stream",
          "name": "stdout",
          "text": [
            "At timestep 11, Agent position: [0 1] Reward: 0\n"
          ]
        },
        {
          "output_type": "display_data",
          "data": {
            "text/plain": [
              "<IPython.core.display.Javascript object>"
            ],
            "application/javascript": [
              "window[\"30953378-32ea-11ed-9211-0242ac1c0002\"] = google.colab.output.getActiveOutputArea();\n",
              "//# sourceURL=js_6c4d0ff02a"
            ]
          },
          "metadata": {}
        },
        {
          "output_type": "display_data",
          "data": {
            "text/plain": [
              "<IPython.core.display.Javascript object>"
            ],
            "application/javascript": [
              "window[\"3095ad08-32ea-11ed-9211-0242ac1c0002\"] = document.querySelector(\"#id78-0-0\");\n",
              "//# sourceURL=js_4bdadf790a"
            ]
          },
          "metadata": {}
        },
        {
          "output_type": "display_data",
          "data": {
            "text/plain": [
              "<IPython.core.display.Javascript object>"
            ],
            "application/javascript": [
              "window[\"3096109a-32ea-11ed-9211-0242ac1c0002\"] = google.colab.output.setActiveOutputArea(window[\"3095ad08-32ea-11ed-9211-0242ac1c0002\"]);\n",
              "//# sourceURL=js_02a54a22e0"
            ]
          },
          "metadata": {}
        },
        {
          "output_type": "display_data",
          "data": {
            "text/plain": [
              "<IPython.core.display.Javascript object>"
            ],
            "application/javascript": [
              "window[\"30af0c4e-32ea-11ed-9211-0242ac1c0002\"] = google.colab.output.setActiveOutputArea(window[\"30953378-32ea-11ed-9211-0242ac1c0002\"]);\n",
              "//# sourceURL=js_c86fd562c0"
            ]
          },
          "metadata": {}
        },
        {
          "output_type": "stream",
          "name": "stdout",
          "text": [
            "At timestep 12, Agent position: [1 1] Reward: 0\n"
          ]
        },
        {
          "output_type": "display_data",
          "data": {
            "text/plain": [
              "<IPython.core.display.Javascript object>"
            ],
            "application/javascript": [
              "window[\"314ab496-32ea-11ed-9211-0242ac1c0002\"] = google.colab.output.getActiveOutputArea();\n",
              "//# sourceURL=js_bf4d51e951"
            ]
          },
          "metadata": {}
        },
        {
          "output_type": "display_data",
          "data": {
            "text/plain": [
              "<IPython.core.display.Javascript object>"
            ],
            "application/javascript": [
              "window[\"314b0a86-32ea-11ed-9211-0242ac1c0002\"] = document.querySelector(\"#id78-0-0\");\n",
              "//# sourceURL=js_faa9c18889"
            ]
          },
          "metadata": {}
        },
        {
          "output_type": "display_data",
          "data": {
            "text/plain": [
              "<IPython.core.display.Javascript object>"
            ],
            "application/javascript": [
              "window[\"314b7322-32ea-11ed-9211-0242ac1c0002\"] = google.colab.output.setActiveOutputArea(window[\"314b0a86-32ea-11ed-9211-0242ac1c0002\"]);\n",
              "//# sourceURL=js_768e00c548"
            ]
          },
          "metadata": {}
        },
        {
          "output_type": "display_data",
          "data": {
            "text/plain": [
              "<IPython.core.display.Javascript object>"
            ],
            "application/javascript": [
              "window[\"31668928-32ea-11ed-9211-0242ac1c0002\"] = google.colab.output.setActiveOutputArea(window[\"314ab496-32ea-11ed-9211-0242ac1c0002\"]);\n",
              "//# sourceURL=js_1eae2206ff"
            ]
          },
          "metadata": {}
        },
        {
          "output_type": "stream",
          "name": "stdout",
          "text": [
            "At timestep 13, Agent position: [2 1] Reward: -1\n"
          ]
        },
        {
          "output_type": "display_data",
          "data": {
            "text/plain": [
              "<IPython.core.display.Javascript object>"
            ],
            "application/javascript": [
              "window[\"32025588-32ea-11ed-9211-0242ac1c0002\"] = google.colab.output.getActiveOutputArea();\n",
              "//# sourceURL=js_cd3bd0a94f"
            ]
          },
          "metadata": {}
        },
        {
          "output_type": "display_data",
          "data": {
            "text/plain": [
              "<IPython.core.display.Javascript object>"
            ],
            "application/javascript": [
              "window[\"3202af06-32ea-11ed-9211-0242ac1c0002\"] = document.querySelector(\"#id78-0-0\");\n",
              "//# sourceURL=js_684172155b"
            ]
          },
          "metadata": {}
        },
        {
          "output_type": "display_data",
          "data": {
            "text/plain": [
              "<IPython.core.display.Javascript object>"
            ],
            "application/javascript": [
              "window[\"32030d5c-32ea-11ed-9211-0242ac1c0002\"] = google.colab.output.setActiveOutputArea(window[\"3202af06-32ea-11ed-9211-0242ac1c0002\"]);\n",
              "//# sourceURL=js_fda39b8aa7"
            ]
          },
          "metadata": {}
        },
        {
          "output_type": "display_data",
          "data": {
            "text/plain": [
              "<IPython.core.display.Javascript object>"
            ],
            "application/javascript": [
              "window[\"321e2970-32ea-11ed-9211-0242ac1c0002\"] = google.colab.output.setActiveOutputArea(window[\"32025588-32ea-11ed-9211-0242ac1c0002\"]);\n",
              "//# sourceURL=js_0b781a5ffa"
            ]
          },
          "metadata": {}
        },
        {
          "output_type": "stream",
          "name": "stdout",
          "text": [
            "At timestep 14, Agent position: [2 2] Reward: 0\n"
          ]
        },
        {
          "output_type": "display_data",
          "data": {
            "text/plain": [
              "<IPython.core.display.Javascript object>"
            ],
            "application/javascript": [
              "window[\"32ba9120-32ea-11ed-9211-0242ac1c0002\"] = google.colab.output.getActiveOutputArea();\n",
              "//# sourceURL=js_3c470c07db"
            ]
          },
          "metadata": {}
        },
        {
          "output_type": "display_data",
          "data": {
            "text/plain": [
              "<IPython.core.display.Javascript object>"
            ],
            "application/javascript": [
              "window[\"32bb0664-32ea-11ed-9211-0242ac1c0002\"] = document.querySelector(\"#id78-0-0\");\n",
              "//# sourceURL=js_5563f9af3b"
            ]
          },
          "metadata": {}
        },
        {
          "output_type": "display_data",
          "data": {
            "text/plain": [
              "<IPython.core.display.Javascript object>"
            ],
            "application/javascript": [
              "window[\"32bb683e-32ea-11ed-9211-0242ac1c0002\"] = google.colab.output.setActiveOutputArea(window[\"32bb0664-32ea-11ed-9211-0242ac1c0002\"]);\n",
              "//# sourceURL=js_b2dd1379c0"
            ]
          },
          "metadata": {}
        },
        {
          "output_type": "display_data",
          "data": {
            "text/plain": [
              "<IPython.core.display.Javascript object>"
            ],
            "application/javascript": [
              "window[\"32d69f00-32ea-11ed-9211-0242ac1c0002\"] = google.colab.output.setActiveOutputArea(window[\"32ba9120-32ea-11ed-9211-0242ac1c0002\"]);\n",
              "//# sourceURL=js_0ddf646c81"
            ]
          },
          "metadata": {}
        },
        {
          "output_type": "stream",
          "name": "stdout",
          "text": [
            "At timestep 15, Agent position: [3 2] Reward: 0\n"
          ]
        },
        {
          "output_type": "display_data",
          "data": {
            "text/plain": [
              "<IPython.core.display.Javascript object>"
            ],
            "application/javascript": [
              "window[\"33747ebe-32ea-11ed-9211-0242ac1c0002\"] = google.colab.output.getActiveOutputArea();\n",
              "//# sourceURL=js_db8a320688"
            ]
          },
          "metadata": {}
        },
        {
          "output_type": "display_data",
          "data": {
            "text/plain": [
              "<IPython.core.display.Javascript object>"
            ],
            "application/javascript": [
              "window[\"3374fb3c-32ea-11ed-9211-0242ac1c0002\"] = document.querySelector(\"#id78-0-0\");\n",
              "//# sourceURL=js_02182155ea"
            ]
          },
          "metadata": {}
        },
        {
          "output_type": "display_data",
          "data": {
            "text/plain": [
              "<IPython.core.display.Javascript object>"
            ],
            "application/javascript": [
              "window[\"3375fb22-32ea-11ed-9211-0242ac1c0002\"] = google.colab.output.setActiveOutputArea(window[\"3374fb3c-32ea-11ed-9211-0242ac1c0002\"]);\n",
              "//# sourceURL=js_407f64a266"
            ]
          },
          "metadata": {}
        },
        {
          "output_type": "display_data",
          "data": {
            "text/plain": [
              "<IPython.core.display.Javascript object>"
            ],
            "application/javascript": [
              "window[\"338f159e-32ea-11ed-9211-0242ac1c0002\"] = google.colab.output.setActiveOutputArea(window[\"33747ebe-32ea-11ed-9211-0242ac1c0002\"]);\n",
              "//# sourceURL=js_6f36efccde"
            ]
          },
          "metadata": {}
        },
        {
          "output_type": "stream",
          "name": "stdout",
          "text": [
            "At timestep 16, Agent position: [3 3] Reward: 10\n"
          ]
        },
        {
          "output_type": "display_data",
          "data": {
            "text/plain": [
              "<IPython.core.display.Javascript object>"
            ],
            "application/javascript": [
              "window[\"342b23e4-32ea-11ed-9211-0242ac1c0002\"] = google.colab.output.getActiveOutputArea();\n",
              "//# sourceURL=js_40eed9a9d7"
            ]
          },
          "metadata": {}
        },
        {
          "output_type": "display_data",
          "data": {
            "text/plain": [
              "<IPython.core.display.Javascript object>"
            ],
            "application/javascript": [
              "window[\"342b7d1c-32ea-11ed-9211-0242ac1c0002\"] = document.querySelector(\"#id78-0-0\");\n",
              "//# sourceURL=js_5c21844943"
            ]
          },
          "metadata": {}
        },
        {
          "output_type": "display_data",
          "data": {
            "text/plain": [
              "<IPython.core.display.Javascript object>"
            ],
            "application/javascript": [
              "window[\"342c11e6-32ea-11ed-9211-0242ac1c0002\"] = google.colab.output.setActiveOutputArea(window[\"342b7d1c-32ea-11ed-9211-0242ac1c0002\"]);\n",
              "//# sourceURL=js_71fc83c8e0"
            ]
          },
          "metadata": {}
        },
        {
          "output_type": "display_data",
          "data": {
            "text/plain": [
              "<Figure size 432x288 with 1 Axes>"
            ],
            "image/png": "[encoded data removed]"
          },
          "metadata": {
            "needs_background": "light"
          }
        },
        {
          "output_type": "display_data",
          "data": {
            "text/plain": [
              "<IPython.core.display.Javascript object>"
            ],
            "application/javascript": [
              "window[\"3445226c-32ea-11ed-9211-0242ac1c0002\"] = google.colab.output.setActiveOutputArea(window[\"342b23e4-32ea-11ed-9211-0242ac1c0002\"]);\n",
              "//# sourceURL=js_edc5395c8c"
            ]
          },
          "metadata": {}
        }
      ]
    },
    {
      "cell_type": "markdown",
      "source": [
        "###Running the RandomAgent in Stochastic Environment"
      ],
      "metadata": {
        "id": "1iw-9N2_1VTR"
      }
    },
    {
      "cell_type": "code",
      "source": [
        "env = Stochastic_Environment()\n",
        "agent = RandomAgent(env)\n",
        "obs = env.reset()\n",
        "env.render()"
      ],
      "metadata": {
        "colab": {
          "base_uri": "https://localhost:8080/",
          "height": 269
        },
        "id": "fwnt-AAbvzRA",
        "outputId": "fe0dd676-db47-47e1-e82a-993b8c81116e"
      },
      "execution_count": 130,
      "outputs": [
        {
          "output_type": "display_data",
          "data": {
            "text/plain": [
              "<Figure size 432x288 with 1 Axes>"
            ],
            "image/png": "[encoded data removed]"
          },
          "metadata": {
            "needs_background": "light"
          }
        }
      ]
    },
    {
      "cell_type": "code",
      "source": [
        "done = False\n",
        "\n",
        "output_grid = widgets.Grid(1, 1)\n",
        "with output_grid.output_to(0, 0):\n",
        "  env.render()\n",
        "\n",
        "i=0\n",
        "while not done:\n",
        "  action = agent.step(obs)\n",
        "  obs, reward, done, info = env.step(action)\n",
        "  print(\"At timestep \" + str(i) + \", Agent position: \" + str(env.agent_pos) + \" Reward: \" + str(reward))\n",
        "  i = i + 1\n",
        "  with output_grid.output_to(0, 0):\n",
        "    output_grid.clear_cell()\n",
        "    env.render()\n",
        "  time.sleep(1)"
      ],
      "metadata": {
        "colab": {
          "base_uri": "https://localhost:8080/",
          "height": 447
        },
        "id": "55HjGQDovGVz",
        "outputId": "049b7d21-7dbd-4580-9ac0-a048bab2bf30"
      },
      "execution_count": 131,
      "outputs": [
        {
          "output_type": "display_data",
          "data": {
            "text/plain": [
              "<IPython.core.display.HTML object>"
            ],
            "text/html": [
              "<style>\n",
              "       table#id74, #id74 > tbody > tr > th, #id74 > tbody > tr > td {\n",
              "         border: 1px solid lightgray;\n",
              "         border-collapse:collapse;\n",
              "         \n",
              "        }</style>"
            ]
          },
          "metadata": {}
        },
        {
          "output_type": "display_data",
          "data": {
            "text/plain": [
              "<IPython.core.display.HTML object>"
            ],
            "text/html": [
              "<table id=id74><tr><td id=id74-0-0></td></tr></table>"
            ]
          },
          "metadata": {}
        },
        {
          "output_type": "display_data",
          "data": {
            "text/plain": [
              "<IPython.core.display.Javascript object>"
            ],
            "application/javascript": [
              "window[\"f3f25202-32e9-11ed-9211-0242ac1c0002\"] = google.colab.output.getActiveOutputArea();\n",
              "//# sourceURL=js_6765178517"
            ]
          },
          "metadata": {}
        },
        {
          "output_type": "display_data",
          "data": {
            "text/plain": [
              "<IPython.core.display.Javascript object>"
            ],
            "application/javascript": [
              "window[\"f3f2b94a-32e9-11ed-9211-0242ac1c0002\"] = document.querySelector(\"#id74-0-0\");\n",
              "//# sourceURL=js_ff96c13fd4"
            ]
          },
          "metadata": {}
        },
        {
          "output_type": "display_data",
          "data": {
            "text/plain": [
              "<IPython.core.display.Javascript object>"
            ],
            "application/javascript": [
              "window[\"f3f31a3e-32e9-11ed-9211-0242ac1c0002\"] = google.colab.output.setActiveOutputArea(window[\"f3f2b94a-32e9-11ed-9211-0242ac1c0002\"]);\n",
              "//# sourceURL=js_6f80b1ac51"
            ]
          },
          "metadata": {}
        },
        {
          "output_type": "display_data",
          "data": {
            "text/plain": [
              "<IPython.core.display.Javascript object>"
            ],
            "application/javascript": [
              "window[\"f40aaf00-32e9-11ed-9211-0242ac1c0002\"] = google.colab.output.setActiveOutputArea(window[\"f3f25202-32e9-11ed-9211-0242ac1c0002\"]);\n",
              "//# sourceURL=js_d38f26898a"
            ]
          },
          "metadata": {}
        },
        {
          "output_type": "stream",
          "name": "stdout",
          "text": [
            "At timestep 0, Agent position: [0 0] Reward: 0\n"
          ]
        },
        {
          "output_type": "display_data",
          "data": {
            "text/plain": [
              "<IPython.core.display.Javascript object>"
            ],
            "application/javascript": [
              "window[\"f40dee22-32e9-11ed-9211-0242ac1c0002\"] = google.colab.output.getActiveOutputArea();\n",
              "//# sourceURL=js_3df3fefd8f"
            ]
          },
          "metadata": {}
        },
        {
          "output_type": "display_data",
          "data": {
            "text/plain": [
              "<IPython.core.display.Javascript object>"
            ],
            "application/javascript": [
              "window[\"f40e525e-32e9-11ed-9211-0242ac1c0002\"] = document.querySelector(\"#id74-0-0\");\n",
              "//# sourceURL=js_8352b06841"
            ]
          },
          "metadata": {}
        },
        {
          "output_type": "display_data",
          "data": {
            "text/plain": [
              "<IPython.core.display.Javascript object>"
            ],
            "application/javascript": [
              "window[\"f40eb55a-32e9-11ed-9211-0242ac1c0002\"] = google.colab.output.setActiveOutputArea(window[\"f40e525e-32e9-11ed-9211-0242ac1c0002\"]);\n",
              "//# sourceURL=js_a03711c8d8"
            ]
          },
          "metadata": {}
        },
        {
          "output_type": "display_data",
          "data": {
            "text/plain": [
              "<IPython.core.display.Javascript object>"
            ],
            "application/javascript": [
              "window[\"f428b518-32e9-11ed-9211-0242ac1c0002\"] = google.colab.output.setActiveOutputArea(window[\"f40dee22-32e9-11ed-9211-0242ac1c0002\"]);\n",
              "//# sourceURL=js_ae8191856e"
            ]
          },
          "metadata": {}
        },
        {
          "output_type": "stream",
          "name": "stdout",
          "text": [
            "At timestep 1, Agent position: [0 0] Reward: 0\n"
          ]
        },
        {
          "output_type": "display_data",
          "data": {
            "text/plain": [
              "<IPython.core.display.Javascript object>"
            ],
            "application/javascript": [
              "window[\"f4c54a72-32e9-11ed-9211-0242ac1c0002\"] = google.colab.output.getActiveOutputArea();\n",
              "//# sourceURL=js_e9256970de"
            ]
          },
          "metadata": {}
        },
        {
          "output_type": "display_data",
          "data": {
            "text/plain": [
              "<IPython.core.display.Javascript object>"
            ],
            "application/javascript": [
              "window[\"f4c5c506-32e9-11ed-9211-0242ac1c0002\"] = document.querySelector(\"#id74-0-0\");\n",
              "//# sourceURL=js_85080dd835"
            ]
          },
          "metadata": {}
        },
        {
          "output_type": "display_data",
          "data": {
            "text/plain": [
              "<IPython.core.display.Javascript object>"
            ],
            "application/javascript": [
              "window[\"f4c61aa6-32e9-11ed-9211-0242ac1c0002\"] = google.colab.output.setActiveOutputArea(window[\"f4c5c506-32e9-11ed-9211-0242ac1c0002\"]);\n",
              "//# sourceURL=js_7e2bc8653c"
            ]
          },
          "metadata": {}
        },
        {
          "output_type": "display_data",
          "data": {
            "text/plain": [
              "<IPython.core.display.Javascript object>"
            ],
            "application/javascript": [
              "window[\"f4e00ec0-32e9-11ed-9211-0242ac1c0002\"] = google.colab.output.setActiveOutputArea(window[\"f4c54a72-32e9-11ed-9211-0242ac1c0002\"]);\n",
              "//# sourceURL=js_363b5ed51c"
            ]
          },
          "metadata": {}
        },
        {
          "output_type": "stream",
          "name": "stdout",
          "text": [
            "At timestep 2, Agent position: [0 1] Reward: 0\n"
          ]
        },
        {
          "output_type": "display_data",
          "data": {
            "text/plain": [
              "<IPython.core.display.Javascript object>"
            ],
            "application/javascript": [
              "window[\"f57bac4a-32e9-11ed-9211-0242ac1c0002\"] = google.colab.output.getActiveOutputArea();\n",
              "//# sourceURL=js_79342a5850"
            ]
          },
          "metadata": {}
        },
        {
          "output_type": "display_data",
          "data": {
            "text/plain": [
              "<IPython.core.display.Javascript object>"
            ],
            "application/javascript": [
              "window[\"f57c1270-32e9-11ed-9211-0242ac1c0002\"] = document.querySelector(\"#id74-0-0\");\n",
              "//# sourceURL=js_04988b13f8"
            ]
          },
          "metadata": {}
        },
        {
          "output_type": "display_data",
          "data": {
            "text/plain": [
              "<IPython.core.display.Javascript object>"
            ],
            "application/javascript": [
              "window[\"f57c77ec-32e9-11ed-9211-0242ac1c0002\"] = google.colab.output.setActiveOutputArea(window[\"f57c1270-32e9-11ed-9211-0242ac1c0002\"]);\n",
              "//# sourceURL=js_e4a0189318"
            ]
          },
          "metadata": {}
        },
        {
          "output_type": "display_data",
          "data": {
            "text/plain": [
              "<IPython.core.display.Javascript object>"
            ],
            "application/javascript": [
              "window[\"f5945c7c-32e9-11ed-9211-0242ac1c0002\"] = google.colab.output.setActiveOutputArea(window[\"f57bac4a-32e9-11ed-9211-0242ac1c0002\"]);\n",
              "//# sourceURL=js_ddbb8c7a61"
            ]
          },
          "metadata": {}
        },
        {
          "output_type": "stream",
          "name": "stdout",
          "text": [
            "At timestep 3, Agent position: [0 1] Reward: 0\n"
          ]
        },
        {
          "output_type": "display_data",
          "data": {
            "text/plain": [
              "<IPython.core.display.Javascript object>"
            ],
            "application/javascript": [
              "window[\"f63022ba-32e9-11ed-9211-0242ac1c0002\"] = google.colab.output.getActiveOutputArea();\n",
              "//# sourceURL=js_5b067730cf"
            ]
          },
          "metadata": {}
        },
        {
          "output_type": "display_data",
          "data": {
            "text/plain": [
              "<IPython.core.display.Javascript object>"
            ],
            "application/javascript": [
              "window[\"f6307ce2-32e9-11ed-9211-0242ac1c0002\"] = document.querySelector(\"#id74-0-0\");\n",
              "//# sourceURL=js_654369784e"
            ]
          },
          "metadata": {}
        },
        {
          "output_type": "display_data",
          "data": {
            "text/plain": [
              "<IPython.core.display.Javascript object>"
            ],
            "application/javascript": [
              "window[\"f630d26e-32e9-11ed-9211-0242ac1c0002\"] = google.colab.output.setActiveOutputArea(window[\"f6307ce2-32e9-11ed-9211-0242ac1c0002\"]);\n",
              "//# sourceURL=js_b4a6d1a67f"
            ]
          },
          "metadata": {}
        },
        {
          "output_type": "display_data",
          "data": {
            "text/plain": [
              "<IPython.core.display.Javascript object>"
            ],
            "application/javascript": [
              "window[\"f64a0036-32e9-11ed-9211-0242ac1c0002\"] = google.colab.output.setActiveOutputArea(window[\"f63022ba-32e9-11ed-9211-0242ac1c0002\"]);\n",
              "//# sourceURL=js_89c7c5acad"
            ]
          },
          "metadata": {}
        },
        {
          "output_type": "stream",
          "name": "stdout",
          "text": [
            "At timestep 4, Agent position: [0 1] Reward: 0\n"
          ]
        },
        {
          "output_type": "display_data",
          "data": {
            "text/plain": [
              "<IPython.core.display.Javascript object>"
            ],
            "application/javascript": [
              "window[\"f6e65a26-32e9-11ed-9211-0242ac1c0002\"] = google.colab.output.getActiveOutputArea();\n",
              "//# sourceURL=js_23b4da48ad"
            ]
          },
          "metadata": {}
        },
        {
          "output_type": "display_data",
          "data": {
            "text/plain": [
              "<IPython.core.display.Javascript object>"
            ],
            "application/javascript": [
              "window[\"f6e6e7de-32e9-11ed-9211-0242ac1c0002\"] = document.querySelector(\"#id74-0-0\");\n",
              "//# sourceURL=js_07c0a18eef"
            ]
          },
          "metadata": {}
        },
        {
          "output_type": "display_data",
          "data": {
            "text/plain": [
              "<IPython.core.display.Javascript object>"
            ],
            "application/javascript": [
              "window[\"f6e7ccb2-32e9-11ed-9211-0242ac1c0002\"] = google.colab.output.setActiveOutputArea(window[\"f6e6e7de-32e9-11ed-9211-0242ac1c0002\"]);\n",
              "//# sourceURL=js_620b550c0d"
            ]
          },
          "metadata": {}
        },
        {
          "output_type": "display_data",
          "data": {
            "text/plain": [
              "<IPython.core.display.Javascript object>"
            ],
            "application/javascript": [
              "window[\"f70260ae-32e9-11ed-9211-0242ac1c0002\"] = google.colab.output.setActiveOutputArea(window[\"f6e65a26-32e9-11ed-9211-0242ac1c0002\"]);\n",
              "//# sourceURL=js_0abe4237f5"
            ]
          },
          "metadata": {}
        },
        {
          "output_type": "stream",
          "name": "stdout",
          "text": [
            "At timestep 5, Agent position: [1 1] Reward: 0\n"
          ]
        },
        {
          "output_type": "display_data",
          "data": {
            "text/plain": [
              "<IPython.core.display.Javascript object>"
            ],
            "application/javascript": [
              "window[\"f79dcdf0-32e9-11ed-9211-0242ac1c0002\"] = google.colab.output.getActiveOutputArea();\n",
              "//# sourceURL=js_c7521f07c5"
            ]
          },
          "metadata": {}
        },
        {
          "output_type": "display_data",
          "data": {
            "text/plain": [
              "<IPython.core.display.Javascript object>"
            ],
            "application/javascript": [
              "window[\"f79e52fc-32e9-11ed-9211-0242ac1c0002\"] = document.querySelector(\"#id74-0-0\");\n",
              "//# sourceURL=js_01cd9605de"
            ]
          },
          "metadata": {}
        },
        {
          "output_type": "display_data",
          "data": {
            "text/plain": [
              "<IPython.core.display.Javascript object>"
            ],
            "application/javascript": [
              "window[\"f79ebab2-32e9-11ed-9211-0242ac1c0002\"] = google.colab.output.setActiveOutputArea(window[\"f79e52fc-32e9-11ed-9211-0242ac1c0002\"]);\n",
              "//# sourceURL=js_bb50afb2f0"
            ]
          },
          "metadata": {}
        },
        {
          "output_type": "display_data",
          "data": {
            "text/plain": [
              "<IPython.core.display.Javascript object>"
            ],
            "application/javascript": [
              "window[\"f7b8c7c2-32e9-11ed-9211-0242ac1c0002\"] = google.colab.output.setActiveOutputArea(window[\"f79dcdf0-32e9-11ed-9211-0242ac1c0002\"]);\n",
              "//# sourceURL=js_3e19c14519"
            ]
          },
          "metadata": {}
        },
        {
          "output_type": "stream",
          "name": "stdout",
          "text": [
            "At timestep 6, Agent position: [1 2] Reward: -5\n"
          ]
        },
        {
          "output_type": "display_data",
          "data": {
            "text/plain": [
              "<IPython.core.display.Javascript object>"
            ],
            "application/javascript": [
              "window[\"f854c6fe-32e9-11ed-9211-0242ac1c0002\"] = google.colab.output.getActiveOutputArea();\n",
              "//# sourceURL=js_362e58c6a9"
            ]
          },
          "metadata": {}
        },
        {
          "output_type": "display_data",
          "data": {
            "text/plain": [
              "<IPython.core.display.Javascript object>"
            ],
            "application/javascript": [
              "window[\"f8551d70-32e9-11ed-9211-0242ac1c0002\"] = document.querySelector(\"#id74-0-0\");\n",
              "//# sourceURL=js_dee1840b65"
            ]
          },
          "metadata": {}
        },
        {
          "output_type": "display_data",
          "data": {
            "text/plain": [
              "<IPython.core.display.Javascript object>"
            ],
            "application/javascript": [
              "window[\"f8558134-32e9-11ed-9211-0242ac1c0002\"] = google.colab.output.setActiveOutputArea(window[\"f8551d70-32e9-11ed-9211-0242ac1c0002\"]);\n",
              "//# sourceURL=js_7730d83cbd"
            ]
          },
          "metadata": {}
        },
        {
          "output_type": "display_data",
          "data": {
            "text/plain": [
              "<IPython.core.display.Javascript object>"
            ],
            "application/javascript": [
              "window[\"f86ede54-32e9-11ed-9211-0242ac1c0002\"] = google.colab.output.setActiveOutputArea(window[\"f854c6fe-32e9-11ed-9211-0242ac1c0002\"]);\n",
              "//# sourceURL=js_5babddb5d6"
            ]
          },
          "metadata": {}
        },
        {
          "output_type": "stream",
          "name": "stdout",
          "text": [
            "At timestep 7, Agent position: [2 2] Reward: 0\n"
          ]
        },
        {
          "output_type": "display_data",
          "data": {
            "text/plain": [
              "<IPython.core.display.Javascript object>"
            ],
            "application/javascript": [
              "window[\"f90a91c8-32e9-11ed-9211-0242ac1c0002\"] = google.colab.output.getActiveOutputArea();\n",
              "//# sourceURL=js_0b0941a3b9"
            ]
          },
          "metadata": {}
        },
        {
          "output_type": "display_data",
          "data": {
            "text/plain": [
              "<IPython.core.display.Javascript object>"
            ],
            "application/javascript": [
              "window[\"f90b384e-32e9-11ed-9211-0242ac1c0002\"] = document.querySelector(\"#id74-0-0\");\n",
              "//# sourceURL=js_5de7b271ca"
            ]
          },
          "metadata": {}
        },
        {
          "output_type": "display_data",
          "data": {
            "text/plain": [
              "<IPython.core.display.Javascript object>"
            ],
            "application/javascript": [
              "window[\"f90bda38-32e9-11ed-9211-0242ac1c0002\"] = google.colab.output.setActiveOutputArea(window[\"f90b384e-32e9-11ed-9211-0242ac1c0002\"]);\n",
              "//# sourceURL=js_39ac1c1980"
            ]
          },
          "metadata": {}
        },
        {
          "output_type": "display_data",
          "data": {
            "text/plain": [
              "<IPython.core.display.Javascript object>"
            ],
            "application/javascript": [
              "window[\"f9228a58-32e9-11ed-9211-0242ac1c0002\"] = google.colab.output.setActiveOutputArea(window[\"f90a91c8-32e9-11ed-9211-0242ac1c0002\"]);\n",
              "//# sourceURL=js_f576f41d46"
            ]
          },
          "metadata": {}
        },
        {
          "output_type": "stream",
          "name": "stdout",
          "text": [
            "At timestep 8, Agent position: [2 3] Reward: 3\n"
          ]
        },
        {
          "output_type": "display_data",
          "data": {
            "text/plain": [
              "<IPython.core.display.Javascript object>"
            ],
            "application/javascript": [
              "window[\"f9be2d3c-32e9-11ed-9211-0242ac1c0002\"] = google.colab.output.getActiveOutputArea();\n",
              "//# sourceURL=js_b13d1ec184"
            ]
          },
          "metadata": {}
        },
        {
          "output_type": "display_data",
          "data": {
            "text/plain": [
              "<IPython.core.display.Javascript object>"
            ],
            "application/javascript": [
              "window[\"f9be873c-32e9-11ed-9211-0242ac1c0002\"] = document.querySelector(\"#id74-0-0\");\n",
              "//# sourceURL=js_aa498f663b"
            ]
          },
          "metadata": {}
        },
        {
          "output_type": "display_data",
          "data": {
            "text/plain": [
              "<IPython.core.display.Javascript object>"
            ],
            "application/javascript": [
              "window[\"f9bee01a-32e9-11ed-9211-0242ac1c0002\"] = google.colab.output.setActiveOutputArea(window[\"f9be873c-32e9-11ed-9211-0242ac1c0002\"]);\n",
              "//# sourceURL=js_523f1d5864"
            ]
          },
          "metadata": {}
        },
        {
          "output_type": "display_data",
          "data": {
            "text/plain": [
              "<IPython.core.display.Javascript object>"
            ],
            "application/javascript": [
              "window[\"f9d68558-32e9-11ed-9211-0242ac1c0002\"] = google.colab.output.setActiveOutputArea(window[\"f9be2d3c-32e9-11ed-9211-0242ac1c0002\"]);\n",
              "//# sourceURL=js_1b09abdebf"
            ]
          },
          "metadata": {}
        },
        {
          "output_type": "stream",
          "name": "stdout",
          "text": [
            "At timestep 9, Agent position: [3 3] Reward: 10\n"
          ]
        },
        {
          "output_type": "display_data",
          "data": {
            "text/plain": [
              "<IPython.core.display.Javascript object>"
            ],
            "application/javascript": [
              "window[\"fa72413c-32e9-11ed-9211-0242ac1c0002\"] = google.colab.output.getActiveOutputArea();\n",
              "//# sourceURL=js_6f2394f9c7"
            ]
          },
          "metadata": {}
        },
        {
          "output_type": "display_data",
          "data": {
            "text/plain": [
              "<IPython.core.display.Javascript object>"
            ],
            "application/javascript": [
              "window[\"fa729c0e-32e9-11ed-9211-0242ac1c0002\"] = document.querySelector(\"#id74-0-0\");\n",
              "//# sourceURL=js_0dc330ef32"
            ]
          },
          "metadata": {}
        },
        {
          "output_type": "display_data",
          "data": {
            "text/plain": [
              "<IPython.core.display.Javascript object>"
            ],
            "application/javascript": [
              "window[\"fa7316f2-32e9-11ed-9211-0242ac1c0002\"] = google.colab.output.setActiveOutputArea(window[\"fa729c0e-32e9-11ed-9211-0242ac1c0002\"]);\n",
              "//# sourceURL=js_17d58f6d52"
            ]
          },
          "metadata": {}
        },
        {
          "output_type": "display_data",
          "data": {
            "text/plain": [
              "<Figure size 432x288 with 1 Axes>"
            ],
            "image/png": "[encoded data removed]"
          },
          "metadata": {
            "needs_background": "light"
          }
        },
        {
          "output_type": "display_data",
          "data": {
            "text/plain": [
              "<IPython.core.display.Javascript object>"
            ],
            "application/javascript": [
              "window[\"fa980e3a-32e9-11ed-9211-0242ac1c0002\"] = google.colab.output.setActiveOutputArea(window[\"fa72413c-32e9-11ed-9211-0242ac1c0002\"]);\n",
              "//# sourceURL=js_ba2ee3e590"
            ]
          },
          "metadata": {}
        }
      ]
    }
  ]
}